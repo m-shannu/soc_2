{
 "cells": [
  {
   "cell_type": "code",
   "execution_count": 2,
   "id": "0ae97b02",
   "metadata": {},
   "outputs": [
    {
     "data": {
      "text/html": [
       "<div>\n",
       "<style scoped>\n",
       "    .dataframe tbody tr th:only-of-type {\n",
       "        vertical-align: middle;\n",
       "    }\n",
       "\n",
       "    .dataframe tbody tr th {\n",
       "        vertical-align: top;\n",
       "    }\n",
       "\n",
       "    .dataframe thead th {\n",
       "        text-align: right;\n",
       "    }\n",
       "</style>\n",
       "<table border=\"1\" class=\"dataframe\">\n",
       "  <thead>\n",
       "    <tr style=\"text-align: right;\">\n",
       "      <th></th>\n",
       "      <th>age</th>\n",
       "      <th>sex</th>\n",
       "      <th>bmi</th>\n",
       "      <th>children</th>\n",
       "      <th>smoker</th>\n",
       "      <th>region</th>\n",
       "      <th>charges</th>\n",
       "    </tr>\n",
       "  </thead>\n",
       "  <tbody>\n",
       "    <tr>\n",
       "      <th>0</th>\n",
       "      <td>19</td>\n",
       "      <td>female</td>\n",
       "      <td>27.900</td>\n",
       "      <td>0</td>\n",
       "      <td>yes</td>\n",
       "      <td>southwest</td>\n",
       "      <td>16884.92400</td>\n",
       "    </tr>\n",
       "    <tr>\n",
       "      <th>1</th>\n",
       "      <td>18</td>\n",
       "      <td>male</td>\n",
       "      <td>33.770</td>\n",
       "      <td>1</td>\n",
       "      <td>no</td>\n",
       "      <td>southeast</td>\n",
       "      <td>1725.55230</td>\n",
       "    </tr>\n",
       "    <tr>\n",
       "      <th>2</th>\n",
       "      <td>28</td>\n",
       "      <td>male</td>\n",
       "      <td>33.000</td>\n",
       "      <td>3</td>\n",
       "      <td>no</td>\n",
       "      <td>southeast</td>\n",
       "      <td>4449.46200</td>\n",
       "    </tr>\n",
       "    <tr>\n",
       "      <th>3</th>\n",
       "      <td>33</td>\n",
       "      <td>male</td>\n",
       "      <td>22.705</td>\n",
       "      <td>0</td>\n",
       "      <td>no</td>\n",
       "      <td>northwest</td>\n",
       "      <td>21984.47061</td>\n",
       "    </tr>\n",
       "    <tr>\n",
       "      <th>4</th>\n",
       "      <td>32</td>\n",
       "      <td>male</td>\n",
       "      <td>28.880</td>\n",
       "      <td>0</td>\n",
       "      <td>no</td>\n",
       "      <td>northwest</td>\n",
       "      <td>3866.85520</td>\n",
       "    </tr>\n",
       "    <tr>\n",
       "      <th>...</th>\n",
       "      <td>...</td>\n",
       "      <td>...</td>\n",
       "      <td>...</td>\n",
       "      <td>...</td>\n",
       "      <td>...</td>\n",
       "      <td>...</td>\n",
       "      <td>...</td>\n",
       "    </tr>\n",
       "    <tr>\n",
       "      <th>1333</th>\n",
       "      <td>50</td>\n",
       "      <td>male</td>\n",
       "      <td>30.970</td>\n",
       "      <td>3</td>\n",
       "      <td>no</td>\n",
       "      <td>northwest</td>\n",
       "      <td>10600.54830</td>\n",
       "    </tr>\n",
       "    <tr>\n",
       "      <th>1334</th>\n",
       "      <td>18</td>\n",
       "      <td>female</td>\n",
       "      <td>31.920</td>\n",
       "      <td>0</td>\n",
       "      <td>no</td>\n",
       "      <td>northeast</td>\n",
       "      <td>2205.98080</td>\n",
       "    </tr>\n",
       "    <tr>\n",
       "      <th>1335</th>\n",
       "      <td>18</td>\n",
       "      <td>female</td>\n",
       "      <td>36.850</td>\n",
       "      <td>0</td>\n",
       "      <td>no</td>\n",
       "      <td>southeast</td>\n",
       "      <td>1629.83350</td>\n",
       "    </tr>\n",
       "    <tr>\n",
       "      <th>1336</th>\n",
       "      <td>21</td>\n",
       "      <td>female</td>\n",
       "      <td>25.800</td>\n",
       "      <td>0</td>\n",
       "      <td>no</td>\n",
       "      <td>southwest</td>\n",
       "      <td>2007.94500</td>\n",
       "    </tr>\n",
       "    <tr>\n",
       "      <th>1337</th>\n",
       "      <td>61</td>\n",
       "      <td>female</td>\n",
       "      <td>29.070</td>\n",
       "      <td>0</td>\n",
       "      <td>yes</td>\n",
       "      <td>northwest</td>\n",
       "      <td>29141.36030</td>\n",
       "    </tr>\n",
       "  </tbody>\n",
       "</table>\n",
       "<p>1338 rows × 7 columns</p>\n",
       "</div>"
      ],
      "text/plain": [
       "      age     sex     bmi  children smoker     region      charges\n",
       "0      19  female  27.900         0    yes  southwest  16884.92400\n",
       "1      18    male  33.770         1     no  southeast   1725.55230\n",
       "2      28    male  33.000         3     no  southeast   4449.46200\n",
       "3      33    male  22.705         0     no  northwest  21984.47061\n",
       "4      32    male  28.880         0     no  northwest   3866.85520\n",
       "...   ...     ...     ...       ...    ...        ...          ...\n",
       "1333   50    male  30.970         3     no  northwest  10600.54830\n",
       "1334   18  female  31.920         0     no  northeast   2205.98080\n",
       "1335   18  female  36.850         0     no  southeast   1629.83350\n",
       "1336   21  female  25.800         0     no  southwest   2007.94500\n",
       "1337   61  female  29.070         0    yes  northwest  29141.36030\n",
       "\n",
       "[1338 rows x 7 columns]"
      ]
     },
     "execution_count": 2,
     "metadata": {},
     "output_type": "execute_result"
    }
   ],
   "source": [
    "# LINEAR REGRESSION\n",
    "# Linear Regression based projects"
   ]
  },
  {
   "cell_type": "code",
   "execution_count": null,
   "id": "15aa886e",
   "metadata": {},
   "outputs": [],
   "source": [
    "import pandas as pd\n",
    "df=pd.read_csv(r\"C:\\Users\\SHANMUKH\\Downloads\\medical_insurance.csv\")\n",
    "d"
   ]
  },
  {
   "cell_type": "code",
   "execution_count": 3,
   "id": "4977a6f8",
   "metadata": {},
   "outputs": [
    {
     "data": {
      "text/plain": [
       "(1338, 7)"
      ]
     },
     "execution_count": 3,
     "metadata": {},
     "output_type": "execute_result"
    }
   ],
   "source": [
    "df.shape"
   ]
  },
  {
   "cell_type": "code",
   "execution_count": 4,
   "id": "8f30a102",
   "metadata": {},
   "outputs": [
    {
     "data": {
      "text/plain": [
       "age         0\n",
       "sex         0\n",
       "bmi         0\n",
       "children    0\n",
       "smoker      0\n",
       "region      0\n",
       "charges     0\n",
       "dtype: int64"
      ]
     },
     "execution_count": 4,
     "metadata": {},
     "output_type": "execute_result"
    }
   ],
   "source": [
    "df.isna().sum()"
   ]
  },
  {
   "cell_type": "code",
   "execution_count": 5,
   "id": "b3aae649",
   "metadata": {},
   "outputs": [
    {
     "data": {
      "text/plain": [
       "age         0\n",
       "sex         0\n",
       "bmi         0\n",
       "children    0\n",
       "smoker      0\n",
       "region      0\n",
       "charges     0\n",
       "dtype: int64"
      ]
     },
     "execution_count": 5,
     "metadata": {},
     "output_type": "execute_result"
    }
   ],
   "source": [
    "df.isnull().sum()"
   ]
  },
  {
   "cell_type": "code",
   "execution_count": 6,
   "id": "6993dc84",
   "metadata": {},
   "outputs": [
    {
     "data": {
      "text/html": [
       "<div>\n",
       "<style scoped>\n",
       "    .dataframe tbody tr th:only-of-type {\n",
       "        vertical-align: middle;\n",
       "    }\n",
       "\n",
       "    .dataframe tbody tr th {\n",
       "        vertical-align: top;\n",
       "    }\n",
       "\n",
       "    .dataframe thead th {\n",
       "        text-align: right;\n",
       "    }\n",
       "</style>\n",
       "<table border=\"1\" class=\"dataframe\">\n",
       "  <thead>\n",
       "    <tr style=\"text-align: right;\">\n",
       "      <th></th>\n",
       "      <th>age</th>\n",
       "      <th>sex</th>\n",
       "      <th>bmi</th>\n",
       "      <th>children</th>\n",
       "      <th>smoker</th>\n",
       "      <th>region</th>\n",
       "      <th>charges</th>\n",
       "    </tr>\n",
       "  </thead>\n",
       "  <tbody>\n",
       "    <tr>\n",
       "      <th>0</th>\n",
       "      <td>19</td>\n",
       "      <td>female</td>\n",
       "      <td>27.900</td>\n",
       "      <td>0</td>\n",
       "      <td>yes</td>\n",
       "      <td>southwest</td>\n",
       "      <td>16884.92400</td>\n",
       "    </tr>\n",
       "    <tr>\n",
       "      <th>1</th>\n",
       "      <td>18</td>\n",
       "      <td>male</td>\n",
       "      <td>33.770</td>\n",
       "      <td>1</td>\n",
       "      <td>no</td>\n",
       "      <td>southeast</td>\n",
       "      <td>1725.55230</td>\n",
       "    </tr>\n",
       "    <tr>\n",
       "      <th>2</th>\n",
       "      <td>28</td>\n",
       "      <td>male</td>\n",
       "      <td>33.000</td>\n",
       "      <td>3</td>\n",
       "      <td>no</td>\n",
       "      <td>southeast</td>\n",
       "      <td>4449.46200</td>\n",
       "    </tr>\n",
       "    <tr>\n",
       "      <th>3</th>\n",
       "      <td>33</td>\n",
       "      <td>male</td>\n",
       "      <td>22.705</td>\n",
       "      <td>0</td>\n",
       "      <td>no</td>\n",
       "      <td>northwest</td>\n",
       "      <td>21984.47061</td>\n",
       "    </tr>\n",
       "    <tr>\n",
       "      <th>4</th>\n",
       "      <td>32</td>\n",
       "      <td>male</td>\n",
       "      <td>28.880</td>\n",
       "      <td>0</td>\n",
       "      <td>no</td>\n",
       "      <td>northwest</td>\n",
       "      <td>3866.85520</td>\n",
       "    </tr>\n",
       "  </tbody>\n",
       "</table>\n",
       "</div>"
      ],
      "text/plain": [
       "   age     sex     bmi  children smoker     region      charges\n",
       "0   19  female  27.900         0    yes  southwest  16884.92400\n",
       "1   18    male  33.770         1     no  southeast   1725.55230\n",
       "2   28    male  33.000         3     no  southeast   4449.46200\n",
       "3   33    male  22.705         0     no  northwest  21984.47061\n",
       "4   32    male  28.880         0     no  northwest   3866.85520"
      ]
     },
     "execution_count": 6,
     "metadata": {},
     "output_type": "execute_result"
    }
   ],
   "source": [
    "df.head()"
   ]
  },
  {
   "cell_type": "code",
   "execution_count": 7,
   "id": "540c2313",
   "metadata": {},
   "outputs": [
    {
     "data": {
      "text/plain": [
       "region\n",
       "southeast    364\n",
       "southwest    325\n",
       "northwest    325\n",
       "northeast    324\n",
       "Name: count, dtype: int64"
      ]
     },
     "execution_count": 7,
     "metadata": {},
     "output_type": "execute_result"
    }
   ],
   "source": [
    "df['region'].value_counts()"
   ]
  },
  {
   "cell_type": "code",
   "execution_count": 8,
   "id": "84280222",
   "metadata": {},
   "outputs": [
    {
     "data": {
      "text/plain": [
       "age\n",
       "18    69\n",
       "19    68\n",
       "50    29\n",
       "51    29\n",
       "47    29\n",
       "46    29\n",
       "45    29\n",
       "20    29\n",
       "48    29\n",
       "52    29\n",
       "22    28\n",
       "49    28\n",
       "54    28\n",
       "53    28\n",
       "21    28\n",
       "26    28\n",
       "24    28\n",
       "25    28\n",
       "28    28\n",
       "27    28\n",
       "23    28\n",
       "43    27\n",
       "29    27\n",
       "30    27\n",
       "41    27\n",
       "42    27\n",
       "44    27\n",
       "31    27\n",
       "40    27\n",
       "32    26\n",
       "33    26\n",
       "56    26\n",
       "34    26\n",
       "55    26\n",
       "57    26\n",
       "37    25\n",
       "59    25\n",
       "58    25\n",
       "36    25\n",
       "38    25\n",
       "35    25\n",
       "39    25\n",
       "61    23\n",
       "60    23\n",
       "63    23\n",
       "62    23\n",
       "64    22\n",
       "Name: count, dtype: int64"
      ]
     },
     "execution_count": 8,
     "metadata": {},
     "output_type": "execute_result"
    }
   ],
   "source": [
    "df['age'].value_counts()"
   ]
  },
  {
   "cell_type": "code",
   "execution_count": 9,
   "id": "222c3653",
   "metadata": {},
   "outputs": [
    {
     "data": {
      "text/plain": [
       "age                  64\n",
       "sex                male\n",
       "bmi               53.13\n",
       "children              5\n",
       "smoker              yes\n",
       "region        southwest\n",
       "charges     63770.42801\n",
       "dtype: object"
      ]
     },
     "execution_count": 9,
     "metadata": {},
     "output_type": "execute_result"
    }
   ],
   "source": [
    "df.max()"
   ]
  },
  {
   "cell_type": "code",
   "execution_count": 24,
   "id": "aec562df",
   "metadata": {},
   "outputs": [
    {
     "data": {
      "text/plain": [
       "age           18.0000\n",
       "sex            0.0000\n",
       "bmi           15.9600\n",
       "children       0.0000\n",
       "smoker         0.0000\n",
       "region         1.0000\n",
       "charges     1121.8739\n",
       "dtype: float64"
      ]
     },
     "execution_count": 24,
     "metadata": {},
     "output_type": "execute_result"
    }
   ],
   "source": [
    "df.min()"
   ]
  },
  {
   "cell_type": "code",
   "execution_count": 25,
   "id": "6c886c6e",
   "metadata": {},
   "outputs": [
    {
     "data": {
      "text/plain": [
       "15.96"
      ]
     },
     "execution_count": 25,
     "metadata": {},
     "output_type": "execute_result"
    }
   ],
   "source": [
    "df['bmi'].min()"
   ]
  },
  {
   "cell_type": "code",
   "execution_count": 10,
   "id": "bc68b3ed",
   "metadata": {},
   "outputs": [],
   "source": [
    "df['sex'].replace({'male': 0, 'female': 1},inplace = True)"
   ]
  },
  {
   "cell_type": "code",
   "execution_count": 11,
   "id": "6467e9c0",
   "metadata": {},
   "outputs": [],
   "source": [
    "df['smoker'].replace({'no': 0, 'yes': 1},inplace = True)"
   ]
  },
  {
   "cell_type": "code",
   "execution_count": 12,
   "id": "114db396",
   "metadata": {},
   "outputs": [],
   "source": [
    "df['region'].replace({'southeast': 1, 'southwest': 2,'northeast':3,'northwest':4},inplace = True)"
   ]
  },
  {
   "cell_type": "code",
   "execution_count": 13,
   "id": "8f6c6f0f",
   "metadata": {},
   "outputs": [
    {
     "data": {
      "text/plain": [
       "Index(['age', 'sex', 'bmi', 'children', 'smoker', 'region', 'charges'], dtype='object')"
      ]
     },
     "execution_count": 13,
     "metadata": {},
     "output_type": "execute_result"
    }
   ],
   "source": [
    "df.columns"
   ]
  },
  {
   "cell_type": "code",
   "execution_count": 14,
   "id": "2e925a6b",
   "metadata": {},
   "outputs": [
    {
     "data": {
      "text/html": [
       "<div>\n",
       "<style scoped>\n",
       "    .dataframe tbody tr th:only-of-type {\n",
       "        vertical-align: middle;\n",
       "    }\n",
       "\n",
       "    .dataframe tbody tr th {\n",
       "        vertical-align: top;\n",
       "    }\n",
       "\n",
       "    .dataframe thead th {\n",
       "        text-align: right;\n",
       "    }\n",
       "</style>\n",
       "<table border=\"1\" class=\"dataframe\">\n",
       "  <thead>\n",
       "    <tr style=\"text-align: right;\">\n",
       "      <th></th>\n",
       "      <th>age</th>\n",
       "      <th>sex</th>\n",
       "      <th>bmi</th>\n",
       "      <th>children</th>\n",
       "      <th>smoker</th>\n",
       "      <th>region</th>\n",
       "      <th>charges</th>\n",
       "    </tr>\n",
       "  </thead>\n",
       "  <tbody>\n",
       "    <tr>\n",
       "      <th>0</th>\n",
       "      <td>19</td>\n",
       "      <td>1</td>\n",
       "      <td>27.900</td>\n",
       "      <td>0</td>\n",
       "      <td>1</td>\n",
       "      <td>2</td>\n",
       "      <td>16884.92400</td>\n",
       "    </tr>\n",
       "    <tr>\n",
       "      <th>1</th>\n",
       "      <td>18</td>\n",
       "      <td>0</td>\n",
       "      <td>33.770</td>\n",
       "      <td>1</td>\n",
       "      <td>0</td>\n",
       "      <td>1</td>\n",
       "      <td>1725.55230</td>\n",
       "    </tr>\n",
       "    <tr>\n",
       "      <th>2</th>\n",
       "      <td>28</td>\n",
       "      <td>0</td>\n",
       "      <td>33.000</td>\n",
       "      <td>3</td>\n",
       "      <td>0</td>\n",
       "      <td>1</td>\n",
       "      <td>4449.46200</td>\n",
       "    </tr>\n",
       "    <tr>\n",
       "      <th>3</th>\n",
       "      <td>33</td>\n",
       "      <td>0</td>\n",
       "      <td>22.705</td>\n",
       "      <td>0</td>\n",
       "      <td>0</td>\n",
       "      <td>4</td>\n",
       "      <td>21984.47061</td>\n",
       "    </tr>\n",
       "    <tr>\n",
       "      <th>4</th>\n",
       "      <td>32</td>\n",
       "      <td>0</td>\n",
       "      <td>28.880</td>\n",
       "      <td>0</td>\n",
       "      <td>0</td>\n",
       "      <td>4</td>\n",
       "      <td>3866.85520</td>\n",
       "    </tr>\n",
       "    <tr>\n",
       "      <th>...</th>\n",
       "      <td>...</td>\n",
       "      <td>...</td>\n",
       "      <td>...</td>\n",
       "      <td>...</td>\n",
       "      <td>...</td>\n",
       "      <td>...</td>\n",
       "      <td>...</td>\n",
       "    </tr>\n",
       "    <tr>\n",
       "      <th>1333</th>\n",
       "      <td>50</td>\n",
       "      <td>0</td>\n",
       "      <td>30.970</td>\n",
       "      <td>3</td>\n",
       "      <td>0</td>\n",
       "      <td>4</td>\n",
       "      <td>10600.54830</td>\n",
       "    </tr>\n",
       "    <tr>\n",
       "      <th>1334</th>\n",
       "      <td>18</td>\n",
       "      <td>1</td>\n",
       "      <td>31.920</td>\n",
       "      <td>0</td>\n",
       "      <td>0</td>\n",
       "      <td>3</td>\n",
       "      <td>2205.98080</td>\n",
       "    </tr>\n",
       "    <tr>\n",
       "      <th>1335</th>\n",
       "      <td>18</td>\n",
       "      <td>1</td>\n",
       "      <td>36.850</td>\n",
       "      <td>0</td>\n",
       "      <td>0</td>\n",
       "      <td>1</td>\n",
       "      <td>1629.83350</td>\n",
       "    </tr>\n",
       "    <tr>\n",
       "      <th>1336</th>\n",
       "      <td>21</td>\n",
       "      <td>1</td>\n",
       "      <td>25.800</td>\n",
       "      <td>0</td>\n",
       "      <td>0</td>\n",
       "      <td>2</td>\n",
       "      <td>2007.94500</td>\n",
       "    </tr>\n",
       "    <tr>\n",
       "      <th>1337</th>\n",
       "      <td>61</td>\n",
       "      <td>1</td>\n",
       "      <td>29.070</td>\n",
       "      <td>0</td>\n",
       "      <td>1</td>\n",
       "      <td>4</td>\n",
       "      <td>29141.36030</td>\n",
       "    </tr>\n",
       "  </tbody>\n",
       "</table>\n",
       "<p>1338 rows × 7 columns</p>\n",
       "</div>"
      ],
      "text/plain": [
       "      age  sex     bmi  children  smoker  region      charges\n",
       "0      19    1  27.900         0       1       2  16884.92400\n",
       "1      18    0  33.770         1       0       1   1725.55230\n",
       "2      28    0  33.000         3       0       1   4449.46200\n",
       "3      33    0  22.705         0       0       4  21984.47061\n",
       "4      32    0  28.880         0       0       4   3866.85520\n",
       "...   ...  ...     ...       ...     ...     ...          ...\n",
       "1333   50    0  30.970         3       0       4  10600.54830\n",
       "1334   18    1  31.920         0       0       3   2205.98080\n",
       "1335   18    1  36.850         0       0       1   1629.83350\n",
       "1336   21    1  25.800         0       0       2   2007.94500\n",
       "1337   61    1  29.070         0       1       4  29141.36030\n",
       "\n",
       "[1338 rows x 7 columns]"
      ]
     },
     "execution_count": 14,
     "metadata": {},
     "output_type": "execute_result"
    }
   ],
   "source": [
    "df"
   ]
  },
  {
   "cell_type": "code",
   "execution_count": 15,
   "id": "bc6d0659",
   "metadata": {},
   "outputs": [],
   "source": [
    "x=df[['age','sex','bmi','children','smoker','region']]\n",
    "y=df[['charges']]\n"
   ]
  },
  {
   "cell_type": "code",
   "execution_count": 16,
   "id": "a9bcb3e7",
   "metadata": {},
   "outputs": [
    {
     "data": {
      "text/html": [
       "<style>#sk-container-id-1 {color: black;}#sk-container-id-1 pre{padding: 0;}#sk-container-id-1 div.sk-toggleable {background-color: white;}#sk-container-id-1 label.sk-toggleable__label {cursor: pointer;display: block;width: 100%;margin-bottom: 0;padding: 0.3em;box-sizing: border-box;text-align: center;}#sk-container-id-1 label.sk-toggleable__label-arrow:before {content: \"▸\";float: left;margin-right: 0.25em;color: #696969;}#sk-container-id-1 label.sk-toggleable__label-arrow:hover:before {color: black;}#sk-container-id-1 div.sk-estimator:hover label.sk-toggleable__label-arrow:before {color: black;}#sk-container-id-1 div.sk-toggleable__content {max-height: 0;max-width: 0;overflow: hidden;text-align: left;background-color: #f0f8ff;}#sk-container-id-1 div.sk-toggleable__content pre {margin: 0.2em;color: black;border-radius: 0.25em;background-color: #f0f8ff;}#sk-container-id-1 input.sk-toggleable__control:checked~div.sk-toggleable__content {max-height: 200px;max-width: 100%;overflow: auto;}#sk-container-id-1 input.sk-toggleable__control:checked~label.sk-toggleable__label-arrow:before {content: \"▾\";}#sk-container-id-1 div.sk-estimator input.sk-toggleable__control:checked~label.sk-toggleable__label {background-color: #d4ebff;}#sk-container-id-1 div.sk-label input.sk-toggleable__control:checked~label.sk-toggleable__label {background-color: #d4ebff;}#sk-container-id-1 input.sk-hidden--visually {border: 0;clip: rect(1px 1px 1px 1px);clip: rect(1px, 1px, 1px, 1px);height: 1px;margin: -1px;overflow: hidden;padding: 0;position: absolute;width: 1px;}#sk-container-id-1 div.sk-estimator {font-family: monospace;background-color: #f0f8ff;border: 1px dotted black;border-radius: 0.25em;box-sizing: border-box;margin-bottom: 0.5em;}#sk-container-id-1 div.sk-estimator:hover {background-color: #d4ebff;}#sk-container-id-1 div.sk-parallel-item::after {content: \"\";width: 100%;border-bottom: 1px solid gray;flex-grow: 1;}#sk-container-id-1 div.sk-label:hover label.sk-toggleable__label {background-color: #d4ebff;}#sk-container-id-1 div.sk-serial::before {content: \"\";position: absolute;border-left: 1px solid gray;box-sizing: border-box;top: 0;bottom: 0;left: 50%;z-index: 0;}#sk-container-id-1 div.sk-serial {display: flex;flex-direction: column;align-items: center;background-color: white;padding-right: 0.2em;padding-left: 0.2em;position: relative;}#sk-container-id-1 div.sk-item {position: relative;z-index: 1;}#sk-container-id-1 div.sk-parallel {display: flex;align-items: stretch;justify-content: center;background-color: white;position: relative;}#sk-container-id-1 div.sk-item::before, #sk-container-id-1 div.sk-parallel-item::before {content: \"\";position: absolute;border-left: 1px solid gray;box-sizing: border-box;top: 0;bottom: 0;left: 50%;z-index: -1;}#sk-container-id-1 div.sk-parallel-item {display: flex;flex-direction: column;z-index: 1;position: relative;background-color: white;}#sk-container-id-1 div.sk-parallel-item:first-child::after {align-self: flex-end;width: 50%;}#sk-container-id-1 div.sk-parallel-item:last-child::after {align-self: flex-start;width: 50%;}#sk-container-id-1 div.sk-parallel-item:only-child::after {width: 0;}#sk-container-id-1 div.sk-dashed-wrapped {border: 1px dashed gray;margin: 0 0.4em 0.5em 0.4em;box-sizing: border-box;padding-bottom: 0.4em;background-color: white;}#sk-container-id-1 div.sk-label label {font-family: monospace;font-weight: bold;display: inline-block;line-height: 1.2em;}#sk-container-id-1 div.sk-label-container {text-align: center;}#sk-container-id-1 div.sk-container {/* jupyter's `normalize.less` sets `[hidden] { display: none; }` but bootstrap.min.css set `[hidden] { display: none !important; }` so we also need the `!important` here to be able to override the default hidden behavior on the sphinx rendered scikit-learn.org. See: https://github.com/scikit-learn/scikit-learn/issues/21755 */display: inline-block !important;position: relative;}#sk-container-id-1 div.sk-text-repr-fallback {display: none;}</style><div id=\"sk-container-id-1\" class=\"sk-top-container\"><div class=\"sk-text-repr-fallback\"><pre>LinearRegression()</pre><b>In a Jupyter environment, please rerun this cell to show the HTML representation or trust the notebook. <br />On GitHub, the HTML representation is unable to render, please try loading this page with nbviewer.org.</b></div><div class=\"sk-container\" hidden><div class=\"sk-item\"><div class=\"sk-estimator sk-toggleable\"><input class=\"sk-toggleable__control sk-hidden--visually\" id=\"sk-estimator-id-1\" type=\"checkbox\" checked><label for=\"sk-estimator-id-1\" class=\"sk-toggleable__label sk-toggleable__label-arrow\">LinearRegression</label><div class=\"sk-toggleable__content\"><pre>LinearRegression()</pre></div></div></div></div></div>"
      ],
      "text/plain": [
       "LinearRegression()"
      ]
     },
     "execution_count": 16,
     "metadata": {},
     "output_type": "execute_result"
    }
   ],
   "source": [
    "from sklearn.model_selection import train_test_split\n",
    "x_train,x_test,y_train,y_test = train_test_split(x,y,test_size = 0.2, random_state=56)\n",
    "from sklearn.linear_model import LinearRegression\n",
    "\n",
    "model = LinearRegression()\n",
    "model"
   ]
  },
  {
   "cell_type": "code",
   "execution_count": 17,
   "id": "c50c05e1",
   "metadata": {},
   "outputs": [
    {
     "data": {
      "text/html": [
       "<style>#sk-container-id-2 {color: black;}#sk-container-id-2 pre{padding: 0;}#sk-container-id-2 div.sk-toggleable {background-color: white;}#sk-container-id-2 label.sk-toggleable__label {cursor: pointer;display: block;width: 100%;margin-bottom: 0;padding: 0.3em;box-sizing: border-box;text-align: center;}#sk-container-id-2 label.sk-toggleable__label-arrow:before {content: \"▸\";float: left;margin-right: 0.25em;color: #696969;}#sk-container-id-2 label.sk-toggleable__label-arrow:hover:before {color: black;}#sk-container-id-2 div.sk-estimator:hover label.sk-toggleable__label-arrow:before {color: black;}#sk-container-id-2 div.sk-toggleable__content {max-height: 0;max-width: 0;overflow: hidden;text-align: left;background-color: #f0f8ff;}#sk-container-id-2 div.sk-toggleable__content pre {margin: 0.2em;color: black;border-radius: 0.25em;background-color: #f0f8ff;}#sk-container-id-2 input.sk-toggleable__control:checked~div.sk-toggleable__content {max-height: 200px;max-width: 100%;overflow: auto;}#sk-container-id-2 input.sk-toggleable__control:checked~label.sk-toggleable__label-arrow:before {content: \"▾\";}#sk-container-id-2 div.sk-estimator input.sk-toggleable__control:checked~label.sk-toggleable__label {background-color: #d4ebff;}#sk-container-id-2 div.sk-label input.sk-toggleable__control:checked~label.sk-toggleable__label {background-color: #d4ebff;}#sk-container-id-2 input.sk-hidden--visually {border: 0;clip: rect(1px 1px 1px 1px);clip: rect(1px, 1px, 1px, 1px);height: 1px;margin: -1px;overflow: hidden;padding: 0;position: absolute;width: 1px;}#sk-container-id-2 div.sk-estimator {font-family: monospace;background-color: #f0f8ff;border: 1px dotted black;border-radius: 0.25em;box-sizing: border-box;margin-bottom: 0.5em;}#sk-container-id-2 div.sk-estimator:hover {background-color: #d4ebff;}#sk-container-id-2 div.sk-parallel-item::after {content: \"\";width: 100%;border-bottom: 1px solid gray;flex-grow: 1;}#sk-container-id-2 div.sk-label:hover label.sk-toggleable__label {background-color: #d4ebff;}#sk-container-id-2 div.sk-serial::before {content: \"\";position: absolute;border-left: 1px solid gray;box-sizing: border-box;top: 0;bottom: 0;left: 50%;z-index: 0;}#sk-container-id-2 div.sk-serial {display: flex;flex-direction: column;align-items: center;background-color: white;padding-right: 0.2em;padding-left: 0.2em;position: relative;}#sk-container-id-2 div.sk-item {position: relative;z-index: 1;}#sk-container-id-2 div.sk-parallel {display: flex;align-items: stretch;justify-content: center;background-color: white;position: relative;}#sk-container-id-2 div.sk-item::before, #sk-container-id-2 div.sk-parallel-item::before {content: \"\";position: absolute;border-left: 1px solid gray;box-sizing: border-box;top: 0;bottom: 0;left: 50%;z-index: -1;}#sk-container-id-2 div.sk-parallel-item {display: flex;flex-direction: column;z-index: 1;position: relative;background-color: white;}#sk-container-id-2 div.sk-parallel-item:first-child::after {align-self: flex-end;width: 50%;}#sk-container-id-2 div.sk-parallel-item:last-child::after {align-self: flex-start;width: 50%;}#sk-container-id-2 div.sk-parallel-item:only-child::after {width: 0;}#sk-container-id-2 div.sk-dashed-wrapped {border: 1px dashed gray;margin: 0 0.4em 0.5em 0.4em;box-sizing: border-box;padding-bottom: 0.4em;background-color: white;}#sk-container-id-2 div.sk-label label {font-family: monospace;font-weight: bold;display: inline-block;line-height: 1.2em;}#sk-container-id-2 div.sk-label-container {text-align: center;}#sk-container-id-2 div.sk-container {/* jupyter's `normalize.less` sets `[hidden] { display: none; }` but bootstrap.min.css set `[hidden] { display: none !important; }` so we also need the `!important` here to be able to override the default hidden behavior on the sphinx rendered scikit-learn.org. See: https://github.com/scikit-learn/scikit-learn/issues/21755 */display: inline-block !important;position: relative;}#sk-container-id-2 div.sk-text-repr-fallback {display: none;}</style><div id=\"sk-container-id-2\" class=\"sk-top-container\"><div class=\"sk-text-repr-fallback\"><pre>LinearRegression()</pre><b>In a Jupyter environment, please rerun this cell to show the HTML representation or trust the notebook. <br />On GitHub, the HTML representation is unable to render, please try loading this page with nbviewer.org.</b></div><div class=\"sk-container\" hidden><div class=\"sk-item\"><div class=\"sk-estimator sk-toggleable\"><input class=\"sk-toggleable__control sk-hidden--visually\" id=\"sk-estimator-id-2\" type=\"checkbox\" checked><label for=\"sk-estimator-id-2\" class=\"sk-toggleable__label sk-toggleable__label-arrow\">LinearRegression</label><div class=\"sk-toggleable__content\"><pre>LinearRegression()</pre></div></div></div></div></div>"
      ],
      "text/plain": [
       "LinearRegression()"
      ]
     },
     "execution_count": 17,
     "metadata": {},
     "output_type": "execute_result"
    }
   ],
   "source": [
    "model.fit(x_train,y_train)"
   ]
  },
  {
   "cell_type": "code",
   "execution_count": 18,
   "id": "05afff6d",
   "metadata": {},
   "outputs": [
    {
     "data": {
      "text/plain": [
       "array([[10263.30649874],\n",
       "       [ 4102.70943528],\n",
       "       [ 3043.71571324],\n",
       "       [ 7860.33590315],\n",
       "       [30996.51355889],\n",
       "       [ 1923.24682743],\n",
       "       [ 7548.79980766],\n",
       "       [10789.67895756],\n",
       "       [ 6305.34572264],\n",
       "       [35893.29425274],\n",
       "       [ 8867.62403538],\n",
       "       [10965.02571577],\n",
       "       [11165.85698441],\n",
       "       [ 6508.21819329],\n",
       "       [ 6359.18580441],\n",
       "       [14461.56450321],\n",
       "       [14569.52006053],\n",
       "       [ 3159.08481754],\n",
       "       [-2744.01718721],\n",
       "       [-1368.78475213],\n",
       "       [  660.63268271],\n",
       "       [ 7823.52504119],\n",
       "       [34352.49540636],\n",
       "       [ 8535.85555509],\n",
       "       [11685.33937903],\n",
       "       [ 8964.94835358],\n",
       "       [11982.96159335],\n",
       "       [13831.16504719],\n",
       "       [12261.25739612],\n",
       "       [27026.61059283],\n",
       "       [ 2811.28803754],\n",
       "       [ 7015.78961973],\n",
       "       [11979.44312244],\n",
       "       [10746.84559739],\n",
       "       [11952.34805834],\n",
       "       [ 6500.75926802],\n",
       "       [10096.03973094],\n",
       "       [10344.61731547],\n",
       "       [ 9799.15958552],\n",
       "       [ 5096.43128208],\n",
       "       [ 7154.53756352],\n",
       "       [11910.8751327 ],\n",
       "       [ 3703.92699702],\n",
       "       [ 7447.50597462],\n",
       "       [ 5209.37482057],\n",
       "       [ 3643.62627715],\n",
       "       [ 8646.17652255],\n",
       "       [ 6082.18380711],\n",
       "       [ 2437.8076863 ],\n",
       "       [15516.59236505],\n",
       "       [ 4787.89702591],\n",
       "       [10018.03307671],\n",
       "       [10399.06694812],\n",
       "       [14036.59057808],\n",
       "       [15509.15116825],\n",
       "       [ 8655.25656058],\n",
       "       [ 7916.26136383],\n",
       "       [ 9524.71619472],\n",
       "       [11049.59472604],\n",
       "       [ 9681.68846491],\n",
       "       [35849.91317513],\n",
       "       [16479.07773838],\n",
       "       [ 8181.44301361],\n",
       "       [32906.92405695],\n",
       "       [ 9757.85260729],\n",
       "       [12264.35564184],\n",
       "       [ 8004.56323611],\n",
       "       [ 9721.90349536],\n",
       "       [ 3740.02280433],\n",
       "       [40579.49133065],\n",
       "       [10660.23605446],\n",
       "       [ 3742.79449699],\n",
       "       [ 5386.12048716],\n",
       "       [ 7262.48197725],\n",
       "       [ 1529.99131934],\n",
       "       [33871.22509541],\n",
       "       [ 8289.90446118],\n",
       "       [ 5000.26594158],\n",
       "       [10157.38182381],\n",
       "       [37823.84104519],\n",
       "       [ 7245.69116457],\n",
       "       [10753.28485236],\n",
       "       [ 4109.8977125 ],\n",
       "       [10247.54479417],\n",
       "       [ 5346.56209525],\n",
       "       [ 6063.75103674],\n",
       "       [12591.42230988],\n",
       "       [30766.21216576],\n",
       "       [ 7975.0220262 ],\n",
       "       [15258.81849738],\n",
       "       [39626.94163073],\n",
       "       [31430.80052025],\n",
       "       [ 3062.70385753],\n",
       "       [13647.38139877],\n",
       "       [30223.19807054],\n",
       "       [13569.96850964],\n",
       "       [38531.61171518],\n",
       "       [ 7824.00152117],\n",
       "       [14725.13487889],\n",
       "       [28691.77224852],\n",
       "       [ 7643.48441301],\n",
       "       [ -878.66178314],\n",
       "       [ 5073.63146192],\n",
       "       [14067.73959584],\n",
       "       [12573.65561229],\n",
       "       [  642.14285226],\n",
       "       [12957.3542828 ],\n",
       "       [10894.57993948],\n",
       "       [14039.29452039],\n",
       "       [26501.26548167],\n",
       "       [24825.73105268],\n",
       "       [ 8202.95606651],\n",
       "       [34036.12434285],\n",
       "       [ 7820.44353641],\n",
       "       [30138.27874674],\n",
       "       [ 4021.73864406],\n",
       "       [10794.14123999],\n",
       "       [12024.51274358],\n",
       "       [ 1547.58543216],\n",
       "       [23746.30990774],\n",
       "       [ 5579.48582253],\n",
       "       [33321.78675948],\n",
       "       [11614.62570267],\n",
       "       [ 5087.02988745],\n",
       "       [ 3937.22972765],\n",
       "       [34568.63778897],\n",
       "       [ 1036.23877833],\n",
       "       [10800.01406011],\n",
       "       [35951.80077327],\n",
       "       [32591.17507772],\n",
       "       [ 5165.97867762],\n",
       "       [ 2359.48031105],\n",
       "       [ 3964.10091178],\n",
       "       [ 7960.33755384],\n",
       "       [ 6618.71873264],\n",
       "       [ 2236.92621353],\n",
       "       [ 5205.98206279],\n",
       "       [ 3887.02332329],\n",
       "       [ 5955.18177207],\n",
       "       [12407.39304858],\n",
       "       [ 6093.41305266],\n",
       "       [11225.6380073 ],\n",
       "       [ 5630.79563784],\n",
       "       [ 5730.66637893],\n",
       "       [ 2740.64906489],\n",
       "       [11872.71957092],\n",
       "       [25940.7431547 ],\n",
       "       [ 5281.00122261],\n",
       "       [ 5276.25642808],\n",
       "       [ 3917.32005903],\n",
       "       [18154.48608359],\n",
       "       [15404.2929015 ],\n",
       "       [11252.79207418],\n",
       "       [11973.35522099],\n",
       "       [ 7034.06423294],\n",
       "       [10406.39005669],\n",
       "       [29438.79579069],\n",
       "       [ 9039.76357568],\n",
       "       [34753.22978198],\n",
       "       [ 2808.11915972],\n",
       "       [ 2138.54423473],\n",
       "       [38097.87706238],\n",
       "       [23754.16529775],\n",
       "       [12980.5630184 ],\n",
       "       [33229.61108854],\n",
       "       [ 9072.90143002],\n",
       "       [ 8801.63462462],\n",
       "       [12279.71186918],\n",
       "       [14570.4132146 ],\n",
       "       [15371.04453056],\n",
       "       [17128.40116031],\n",
       "       [ 3782.75954207],\n",
       "       [ 5222.58906224],\n",
       "       [ 5996.69580447],\n",
       "       [10060.50249888],\n",
       "       [30443.16764511],\n",
       "       [ 1836.89219785],\n",
       "       [ 5844.59873659],\n",
       "       [ 1718.48985019],\n",
       "       [ 2563.05418166],\n",
       "       [ 7091.64287977],\n",
       "       [10263.4225616 ],\n",
       "       [ 6864.00167376],\n",
       "       [31670.85898555],\n",
       "       [12973.27526722],\n",
       "       [16229.84224197],\n",
       "       [ 4431.1931935 ],\n",
       "       [10080.60397407],\n",
       "       [10773.92392054],\n",
       "       [ 3905.66147224],\n",
       "       [ 3771.17182209],\n",
       "       [ -348.00770487],\n",
       "       [11926.8901275 ],\n",
       "       [ 4321.04336993],\n",
       "       [ 5324.41102026],\n",
       "       [10080.39787505],\n",
       "       [ 9327.33668664],\n",
       "       [  224.13188351],\n",
       "       [28163.88215534],\n",
       "       [ 5599.09823328],\n",
       "       [ -331.91968195],\n",
       "       [11558.95803847],\n",
       "       [16192.48299321],\n",
       "       [30570.07620796],\n",
       "       [ 6522.53800722],\n",
       "       [13613.96919065],\n",
       "       [ 1912.68645511],\n",
       "       [ 4955.27526546],\n",
       "       [ 6028.6423428 ],\n",
       "       [ 9466.46579509],\n",
       "       [12132.24231071],\n",
       "       [38471.78152817],\n",
       "       [ 2084.7274277 ],\n",
       "       [11385.89990667],\n",
       "       [ 8680.5887783 ],\n",
       "       [13973.56981055],\n",
       "       [25980.67391261],\n",
       "       [13165.61642604],\n",
       "       [  747.95687942],\n",
       "       [ 2359.48031105],\n",
       "       [ 3775.27331675],\n",
       "       [13304.42553391],\n",
       "       [30149.93895664],\n",
       "       [ 3198.22717312],\n",
       "       [12507.73112121],\n",
       "       [26725.70856713],\n",
       "       [ 6739.13833822],\n",
       "       [ 7102.05831715],\n",
       "       [15033.46551692],\n",
       "       [ 9002.65164917],\n",
       "       [ 3112.82510264],\n",
       "       [10947.34044409],\n",
       "       [18361.4660169 ],\n",
       "       [36249.30548385],\n",
       "       [11944.50349236],\n",
       "       [30707.04485022],\n",
       "       [ 1073.02830825],\n",
       "       [ 2755.26893713],\n",
       "       [35546.79416135],\n",
       "       [ 3477.26343637],\n",
       "       [29623.60254544],\n",
       "       [37734.06334488],\n",
       "       [12095.29422138],\n",
       "       [ 7282.346988  ],\n",
       "       [33957.25588751],\n",
       "       [ 9603.55068247],\n",
       "       [ 4313.47158311],\n",
       "       [31108.58391579],\n",
       "       [ 2428.02800875],\n",
       "       [26043.67334809],\n",
       "       [-1560.20478748],\n",
       "       [35955.85256563],\n",
       "       [33492.89895213],\n",
       "       [14651.04662655],\n",
       "       [ 8718.25599606],\n",
       "       [10632.11955962],\n",
       "       [ 5754.79162601],\n",
       "       [34412.50697678],\n",
       "       [11840.2606934 ],\n",
       "       [15997.14063422],\n",
       "       [16047.32123188],\n",
       "       [12633.73282284],\n",
       "       [ -178.70933425],\n",
       "       [ 9676.11394266],\n",
       "       [11294.08921374],\n",
       "       [30028.01291138],\n",
       "       [-1465.42057441],\n",
       "       [ 1926.75722012]])"
      ]
     },
     "execution_count": 18,
     "metadata": {},
     "output_type": "execute_result"
    }
   ],
   "source": [
    "y_pred = model.predict(x_test)\n",
    "y_pred"
   ]
  },
  {
   "cell_type": "code",
   "execution_count": 19,
   "id": "d7570818",
   "metadata": {},
   "outputs": [
    {
     "data": {
      "text/html": [
       "<div>\n",
       "<style scoped>\n",
       "    .dataframe tbody tr th:only-of-type {\n",
       "        vertical-align: middle;\n",
       "    }\n",
       "\n",
       "    .dataframe tbody tr th {\n",
       "        vertical-align: top;\n",
       "    }\n",
       "\n",
       "    .dataframe thead th {\n",
       "        text-align: right;\n",
       "    }\n",
       "</style>\n",
       "<table border=\"1\" class=\"dataframe\">\n",
       "  <thead>\n",
       "    <tr style=\"text-align: right;\">\n",
       "      <th></th>\n",
       "      <th>age</th>\n",
       "      <th>sex</th>\n",
       "      <th>bmi</th>\n",
       "      <th>children</th>\n",
       "      <th>smoker</th>\n",
       "      <th>region</th>\n",
       "      <th>charges</th>\n",
       "    </tr>\n",
       "  </thead>\n",
       "  <tbody>\n",
       "    <tr>\n",
       "      <th>0</th>\n",
       "      <td>19</td>\n",
       "      <td>1</td>\n",
       "      <td>27.900</td>\n",
       "      <td>0</td>\n",
       "      <td>1</td>\n",
       "      <td>2</td>\n",
       "      <td>16884.92400</td>\n",
       "    </tr>\n",
       "    <tr>\n",
       "      <th>1</th>\n",
       "      <td>18</td>\n",
       "      <td>0</td>\n",
       "      <td>33.770</td>\n",
       "      <td>1</td>\n",
       "      <td>0</td>\n",
       "      <td>1</td>\n",
       "      <td>1725.55230</td>\n",
       "    </tr>\n",
       "    <tr>\n",
       "      <th>2</th>\n",
       "      <td>28</td>\n",
       "      <td>0</td>\n",
       "      <td>33.000</td>\n",
       "      <td>3</td>\n",
       "      <td>0</td>\n",
       "      <td>1</td>\n",
       "      <td>4449.46200</td>\n",
       "    </tr>\n",
       "    <tr>\n",
       "      <th>3</th>\n",
       "      <td>33</td>\n",
       "      <td>0</td>\n",
       "      <td>22.705</td>\n",
       "      <td>0</td>\n",
       "      <td>0</td>\n",
       "      <td>4</td>\n",
       "      <td>21984.47061</td>\n",
       "    </tr>\n",
       "    <tr>\n",
       "      <th>4</th>\n",
       "      <td>32</td>\n",
       "      <td>0</td>\n",
       "      <td>28.880</td>\n",
       "      <td>0</td>\n",
       "      <td>0</td>\n",
       "      <td>4</td>\n",
       "      <td>3866.85520</td>\n",
       "    </tr>\n",
       "  </tbody>\n",
       "</table>\n",
       "</div>"
      ],
      "text/plain": [
       "   age  sex     bmi  children  smoker  region      charges\n",
       "0   19    1  27.900         0       1       2  16884.92400\n",
       "1   18    0  33.770         1       0       1   1725.55230\n",
       "2   28    0  33.000         3       0       1   4449.46200\n",
       "3   33    0  22.705         0       0       4  21984.47061\n",
       "4   32    0  28.880         0       0       4   3866.85520"
      ]
     },
     "execution_count": 19,
     "metadata": {},
     "output_type": "execute_result"
    }
   ],
   "source": [
    "df.head()"
   ]
  },
  {
   "cell_type": "code",
   "execution_count": 20,
   "id": "50242789",
   "metadata": {},
   "outputs": [
    {
     "name": "stderr",
     "output_type": "stream",
     "text": [
      "C:\\Users\\SHANMUKH\\anaconda3\\Lib\\site-packages\\sklearn\\base.py:464: UserWarning: X does not have valid feature names, but LinearRegression was fitted with feature names\n",
      "  warnings.warn(\n"
     ]
    },
    {
     "data": {
      "text/plain": [
       "array([[26850.55865958]])"
      ]
     },
     "execution_count": 20,
     "metadata": {},
     "output_type": "execute_result"
    }
   ],
   "source": [
    "data = [[10,7,29,0,1,6]]\n",
    "pred = model.predict(data)\n",
    "pred"
   ]
  },
  {
   "cell_type": "code",
   "execution_count": 29,
   "id": "ad75bbcb",
   "metadata": {},
   "outputs": [
    {
     "data": {
      "text/plain": [
       "<Axes: xlabel='children', ylabel='age'>"
      ]
     },
     "execution_count": 29,
     "metadata": {},
     "output_type": "execute_result"
    },
    {
     "data": {
      "image/png": "[encoded data removed]",
      "text/plain": [
       "<Figure size 640x480 with 1 Axes>"
      ]
     },
     "metadata": {},
     "output_type": "display_data"
    }
   ],
   "source": [
    "import seaborn as sns\n",
    "sns.barplot(x='children',y='age',data=df)"
   ]
  },
  {
   "cell_type": "code",
   "execution_count": 33,
   "id": "16c14fdc",
   "metadata": {},
   "outputs": [
    {
     "data": {
      "text/plain": [
       "<Axes: xlabel='sex', ylabel='bmi'>"
      ]
     },
     "execution_count": 33,
     "metadata": {},
     "output_type": "execute_result"
    },
    {
     "data": {
      "image/png": "[encoded data removed]",
      "text/plain": [
       "<Figure size 640x480 with 1 Axes>"
      ]
     },
     "metadata": {},
     "output_type": "display_data"
    }
   ],
   "source": [
    "sns.histplot(x='sex',y='bmi',data=df)"
   ]
  },
  {
   "cell_type": "code",
   "execution_count": 36,
   "id": "66ed937e",
   "metadata": {},
   "outputs": [
    {
     "data": {
      "text/plain": [
       "<Axes: xlabel='sex', ylabel='bmi'>"
      ]
     },
     "execution_count": 36,
     "metadata": {},
     "output_type": "execute_result"
    },
    {
     "data": {
      "image/png": "[encoded data removed]",
      "text/plain": [
       "<Figure size 640x480 with 1 Axes>"
      ]
     },
     "metadata": {},
     "output_type": "display_data"
    }
   ],
   "source": [
    "sns.boxplot(x='sex',y='bmi',data=df)"
   ]
  },
  {
   "cell_type": "code",
   "execution_count": 37,
   "id": "01b4e368",
   "metadata": {},
   "outputs": [
    {
     "data": {
      "text/plain": [
       "<Axes: xlabel='sex', ylabel='count'>"
      ]
     },
     "execution_count": 37,
     "metadata": {},
     "output_type": "execute_result"
    },
    {
     "data": {
      "image/png": "[encoded data removed]",
      "text/plain": [
       "<Figure size 640x480 with 1 Axes>"
      ]
     },
     "metadata": {},
     "output_type": "display_data"
    }
   ],
   "source": [
    "sns.countplot(x='sex',data=df)"
   ]
  },
  {
   "cell_type": "code",
   "execution_count": 34,
   "id": "f60e62cc",
   "metadata": {},
   "outputs": [
    {
     "data": {
      "text/html": [
       "<style>#sk-container-id-4 {color: black;}#sk-container-id-4 pre{padding: 0;}#sk-container-id-4 div.sk-toggleable {background-color: white;}#sk-container-id-4 label.sk-toggleable__label {cursor: pointer;display: block;width: 100%;margin-bottom: 0;padding: 0.3em;box-sizing: border-box;text-align: center;}#sk-container-id-4 label.sk-toggleable__label-arrow:before {content: \"▸\";float: left;margin-right: 0.25em;color: #696969;}#sk-container-id-4 label.sk-toggleable__label-arrow:hover:before {color: black;}#sk-container-id-4 div.sk-estimator:hover label.sk-toggleable__label-arrow:before {color: black;}#sk-container-id-4 div.sk-toggleable__content {max-height: 0;max-width: 0;overflow: hidden;text-align: left;background-color: #f0f8ff;}#sk-container-id-4 div.sk-toggleable__content pre {margin: 0.2em;color: black;border-radius: 0.25em;background-color: #f0f8ff;}#sk-container-id-4 input.sk-toggleable__control:checked~div.sk-toggleable__content {max-height: 200px;max-width: 100%;overflow: auto;}#sk-container-id-4 input.sk-toggleable__control:checked~label.sk-toggleable__label-arrow:before {content: \"▾\";}#sk-container-id-4 div.sk-estimator input.sk-toggleable__control:checked~label.sk-toggleable__label {background-color: #d4ebff;}#sk-container-id-4 div.sk-label input.sk-toggleable__control:checked~label.sk-toggleable__label {background-color: #d4ebff;}#sk-container-id-4 input.sk-hidden--visually {border: 0;clip: rect(1px 1px 1px 1px);clip: rect(1px, 1px, 1px, 1px);height: 1px;margin: -1px;overflow: hidden;padding: 0;position: absolute;width: 1px;}#sk-container-id-4 div.sk-estimator {font-family: monospace;background-color: #f0f8ff;border: 1px dotted black;border-radius: 0.25em;box-sizing: border-box;margin-bottom: 0.5em;}#sk-container-id-4 div.sk-estimator:hover {background-color: #d4ebff;}#sk-container-id-4 div.sk-parallel-item::after {content: \"\";width: 100%;border-bottom: 1px solid gray;flex-grow: 1;}#sk-container-id-4 div.sk-label:hover label.sk-toggleable__label {background-color: #d4ebff;}#sk-container-id-4 div.sk-serial::before {content: \"\";position: absolute;border-left: 1px solid gray;box-sizing: border-box;top: 0;bottom: 0;left: 50%;z-index: 0;}#sk-container-id-4 div.sk-serial {display: flex;flex-direction: column;align-items: center;background-color: white;padding-right: 0.2em;padding-left: 0.2em;position: relative;}#sk-container-id-4 div.sk-item {position: relative;z-index: 1;}#sk-container-id-4 div.sk-parallel {display: flex;align-items: stretch;justify-content: center;background-color: white;position: relative;}#sk-container-id-4 div.sk-item::before, #sk-container-id-4 div.sk-parallel-item::before {content: \"\";position: absolute;border-left: 1px solid gray;box-sizing: border-box;top: 0;bottom: 0;left: 50%;z-index: -1;}#sk-container-id-4 div.sk-parallel-item {display: flex;flex-direction: column;z-index: 1;position: relative;background-color: white;}#sk-container-id-4 div.sk-parallel-item:first-child::after {align-self: flex-end;width: 50%;}#sk-container-id-4 div.sk-parallel-item:last-child::after {align-self: flex-start;width: 50%;}#sk-container-id-4 div.sk-parallel-item:only-child::after {width: 0;}#sk-container-id-4 div.sk-dashed-wrapped {border: 1px dashed gray;margin: 0 0.4em 0.5em 0.4em;box-sizing: border-box;padding-bottom: 0.4em;background-color: white;}#sk-container-id-4 div.sk-label label {font-family: monospace;font-weight: bold;display: inline-block;line-height: 1.2em;}#sk-container-id-4 div.sk-label-container {text-align: center;}#sk-container-id-4 div.sk-container {/* jupyter's `normalize.less` sets `[hidden] { display: none; }` but bootstrap.min.css set `[hidden] { display: none !important; }` so we also need the `!important` here to be able to override the default hidden behavior on the sphinx rendered scikit-learn.org. See: https://github.com/scikit-learn/scikit-learn/issues/21755 */display: inline-block !important;position: relative;}#sk-container-id-4 div.sk-text-repr-fallback {display: none;}</style><div id=\"sk-container-id-4\" class=\"sk-top-container\"><div class=\"sk-text-repr-fallback\"><pre>Ridge()</pre><b>In a Jupyter environment, please rerun this cell to show the HTML representation or trust the notebook. <br />On GitHub, the HTML representation is unable to render, please try loading this page with nbviewer.org.</b></div><div class=\"sk-container\" hidden><div class=\"sk-item\"><div class=\"sk-estimator sk-toggleable\"><input class=\"sk-toggleable__control sk-hidden--visually\" id=\"sk-estimator-id-4\" type=\"checkbox\" checked><label for=\"sk-estimator-id-4\" class=\"sk-toggleable__label sk-toggleable__label-arrow\">Ridge</label><div class=\"sk-toggleable__content\"><pre>Ridge()</pre></div></div></div></div></div>"
      ],
      "text/plain": [
       "Ridge()"
      ]
     },
     "execution_count": 34,
     "metadata": {},
     "output_type": "execute_result"
    }
   ],
   "source": [
    "# RIDGE :\n",
    "\n",
    "\n",
    "\n",
    "# TO handle the linear regression there is an another way in machine learning\n",
    "# Instead of linear regression use Ridge\n",
    "\n",
    "from sklearn.linear_model import Ridge\n",
    "\n",
    "rid = Ridge()\n",
    "rid.fit(x_train,y_train)"
   ]
  },
  {
   "cell_type": "code",
   "execution_count": 35,
   "id": "29352440",
   "metadata": {},
   "outputs": [
    {
     "data": {
      "text/plain": [
       "array([[10289.77667103],\n",
       "       [ 4143.81492408],\n",
       "       [ 3078.81217186],\n",
       "       [ 7879.01427963],\n",
       "       [30898.85852209],\n",
       "       [ 1957.05325566],\n",
       "       [ 7583.21865042],\n",
       "       [10815.459502  ],\n",
       "       [ 6339.81917815],\n",
       "       [35793.12978661],\n",
       "       [ 8894.50556775],\n",
       "       [10987.51893167],\n",
       "       [11194.70437312],\n",
       "       [ 6532.01472954],\n",
       "       [ 6387.56466318],\n",
       "       [14480.52557529],\n",
       "       [14589.07870115],\n",
       "       [ 3179.3366116 ],\n",
       "       [-2707.23506359],\n",
       "       [-1339.23712553],\n",
       "       [  683.33271371],\n",
       "       [ 7860.29143689],\n",
       "       [34239.94937857],\n",
       "       [ 8559.30982435],\n",
       "       [11725.22535092],\n",
       "       [ 8991.0449236 ],\n",
       "       [12004.51930601],\n",
       "       [13868.62952498],\n",
       "       [12280.65766052],\n",
       "       [26923.83027032],\n",
       "       [ 2833.31191331],\n",
       "       [ 7052.30740395],\n",
       "       [11999.59328044],\n",
       "       [10777.60545089],\n",
       "       [11970.96669551],\n",
       "       [ 6540.93579339],\n",
       "       [10135.66060934],\n",
       "       [10379.70855996],\n",
       "       [ 9819.22292335],\n",
       "       [ 5116.17790514],\n",
       "       [ 7182.78757517],\n",
       "       [11946.48701521],\n",
       "       [ 3744.87378906],\n",
       "       [ 7475.23192287],\n",
       "       [ 5249.23465644],\n",
       "       [ 3678.39107511],\n",
       "       [ 8686.2851652 ],\n",
       "       [ 6117.28547729],\n",
       "       [ 2460.80729321],\n",
       "       [15533.2703665 ],\n",
       "       [ 4816.69985793],\n",
       "       [10053.1198536 ],\n",
       "       [10423.88658207],\n",
       "       [14073.32729212],\n",
       "       [15546.77165911],\n",
       "       [ 8678.45348869],\n",
       "       [ 7950.07622111],\n",
       "       [ 9555.68770914],\n",
       "       [11082.32657575],\n",
       "       [ 9712.71761398],\n",
       "       [35730.89757146],\n",
       "       [16502.19377962],\n",
       "       [ 8209.26961311],\n",
       "       [32800.39217742],\n",
       "       [ 9776.20235234],\n",
       "       [12302.59022846],\n",
       "       [ 8026.21913182],\n",
       "       [ 9744.77274933],\n",
       "       [ 3781.27592765],\n",
       "       [40458.98222414],\n",
       "       [10677.75512956],\n",
       "       [ 3770.46987915],\n",
       "       [ 5425.3766757 ],\n",
       "       [ 7286.30862374],\n",
       "       [ 1563.55327287],\n",
       "       [33769.23456123],\n",
       "       [ 8309.12470595],\n",
       "       [ 5025.78393325],\n",
       "       [10190.87556143],\n",
       "       [37713.58914671],\n",
       "       [ 7283.31684213],\n",
       "       [10792.57304037],\n",
       "       [ 4142.93693069],\n",
       "       [10286.30430604],\n",
       "       [ 5374.19638254],\n",
       "       [ 6096.23300463],\n",
       "       [12609.62658294],\n",
       "       [30649.23361973],\n",
       "       [ 8001.74556582],\n",
       "       [15293.85944875],\n",
       "       [39526.21535393],\n",
       "       [31329.14782312],\n",
       "       [ 3091.48399344],\n",
       "       [13677.26820444],\n",
       "       [30123.93078914],\n",
       "       [13598.18066769],\n",
       "       [38418.94927045],\n",
       "       [ 7855.18276209],\n",
       "       [14749.70239601],\n",
       "       [28581.48835414],\n",
       "       [ 7670.18945106],\n",
       "       [ -842.20272092],\n",
       "       [ 5102.06332473],\n",
       "       [14104.31017378],\n",
       "       [12589.14634691],\n",
       "       [  671.34220576],\n",
       "       [12986.735429  ],\n",
       "       [10915.91385394],\n",
       "       [14070.8252972 ],\n",
       "       [26395.7836077 ],\n",
       "       [24707.73021056],\n",
       "       [ 8221.34734251],\n",
       "       [33931.92897898],\n",
       "       [ 7854.1812676 ],\n",
       "       [30027.37362824],\n",
       "       [ 4042.60024154],\n",
       "       [10833.3464314 ],\n",
       "       [12045.75957732],\n",
       "       [ 1586.4168281 ],\n",
       "       [23634.30884511],\n",
       "       [ 5599.92579202],\n",
       "       [33208.87889568],\n",
       "       [11652.30442205],\n",
       "       [ 5114.39654047],\n",
       "       [ 3972.24735901],\n",
       "       [34448.36000503],\n",
       "       [ 1064.91435427],\n",
       "       [10830.53694336],\n",
       "       [35842.337518  ],\n",
       "       [32470.31982302],\n",
       "       [ 5190.53912134],\n",
       "       [ 2382.64532484],\n",
       "       [ 3984.50806749],\n",
       "       [ 7983.89149721],\n",
       "       [ 6643.88050338],\n",
       "       [ 2256.7884717 ],\n",
       "       [ 5233.17627311],\n",
       "       [ 3927.31614765],\n",
       "       [ 5973.48901658],\n",
       "       [12427.01356583],\n",
       "       [ 6133.03496098],\n",
       "       [11256.73613399],\n",
       "       [ 5669.70576836],\n",
       "       [ 5762.58976844],\n",
       "       [ 2773.3850789 ],\n",
       "       [11890.8205543 ],\n",
       "       [25831.61899777],\n",
       "       [ 5319.34676867],\n",
       "       [ 5307.95483432],\n",
       "       [ 3956.67878818],\n",
       "       [18175.97971706],\n",
       "       [15437.30802063],\n",
       "       [11287.90166488],\n",
       "       [11991.74245793],\n",
       "       [ 7054.56486633],\n",
       "       [10426.43304884],\n",
       "       [29337.94361339],\n",
       "       [ 9071.58718589],\n",
       "       [34635.2659407 ],\n",
       "       [ 2833.61940643],\n",
       "       [ 2159.9686452 ],\n",
       "       [37984.43680882],\n",
       "       [23639.37033851],\n",
       "       [13017.47372607],\n",
       "       [33112.65252972],\n",
       "       [ 9101.19880305],\n",
       "       [ 8821.14584603],\n",
       "       [12314.33102465],\n",
       "       [14600.93205877],\n",
       "       [15408.46117815],\n",
       "       [17155.38076708],\n",
       "       [ 3817.82172628],\n",
       "       [ 5250.99512705],\n",
       "       [ 6034.52889581],\n",
       "       [10085.79306419],\n",
       "       [30332.26784337],\n",
       "       [ 1872.72911122],\n",
       "       [ 5882.31522839],\n",
       "       [ 1751.32697157],\n",
       "       [ 2591.46532803],\n",
       "       [ 7131.24374573],\n",
       "       [10283.25365228],\n",
       "       [ 6882.75888484],\n",
       "       [31566.82770049],\n",
       "       [12993.24440311],\n",
       "       [16245.63750882],\n",
       "       [ 4463.78826306],\n",
       "       [10113.19996088],\n",
       "       [10790.40963717],\n",
       "       [ 3947.02884983],\n",
       "       [ 3812.25880931],\n",
       "       [ -305.43920913],\n",
       "       [11962.73589844],\n",
       "       [ 4341.39760675],\n",
       "       [ 5343.73855612],\n",
       "       [10118.02373324],\n",
       "       [ 9367.09959699],\n",
       "       [  253.8680565 ],\n",
       "       [28050.12904354],\n",
       "       [ 5634.37728997],\n",
       "       [ -295.55531014],\n",
       "       [11582.89350458],\n",
       "       [16222.56906935],\n",
       "       [30453.1227307 ],\n",
       "       [ 6548.17195951],\n",
       "       [13639.96168162],\n",
       "       [ 1949.12650704],\n",
       "       [ 4992.89422552],\n",
       "       [ 6064.87556732],\n",
       "       [ 9488.77192306],\n",
       "       [12164.94739779],\n",
       "       [38365.45137967],\n",
       "       [ 2111.04514486],\n",
       "       [11405.52769513],\n",
       "       [ 8697.81664352],\n",
       "       [14007.51600299],\n",
       "       [25868.28587989],\n",
       "       [13202.80766698],\n",
       "       [  777.83899308],\n",
       "       [ 2382.64532484],\n",
       "       [ 3803.3315773 ],\n",
       "       [13325.37477855],\n",
       "       [30039.77322525],\n",
       "       [ 3231.19652178],\n",
       "       [12537.96714455],\n",
       "       [26609.56383819],\n",
       "       [ 6771.50333559],\n",
       "       [ 7136.08120706],\n",
       "       [15052.40346198],\n",
       "       [ 9025.10512583],\n",
       "       [ 3148.99028163],\n",
       "       [10978.7145312 ],\n",
       "       [18395.43817526],\n",
       "       [36135.12249558],\n",
       "       [11962.08602737],\n",
       "       [30601.39272104],\n",
       "       [ 1096.416123  ],\n",
       "       [ 2777.90988019],\n",
       "       [35439.08910405],\n",
       "       [ 3515.76063086],\n",
       "       [29526.65860758],\n",
       "       [37610.56231662],\n",
       "       [12126.92501806],\n",
       "       [ 7299.28557043],\n",
       "       [33845.54641808],\n",
       "       [ 9640.23655705],\n",
       "       [ 4351.75693389],\n",
       "       [30993.06448761],\n",
       "       [ 2453.8977662 ],\n",
       "       [25946.87609501],\n",
       "       [-1533.56838626],\n",
       "       [35855.14582034],\n",
       "       [33388.32434549],\n",
       "       [14669.57747872],\n",
       "       [ 8757.04370381],\n",
       "       [10671.13394967],\n",
       "       [ 5782.87775652],\n",
       "       [34296.76951605],\n",
       "       [11868.69649935],\n",
       "       [16034.39072751],\n",
       "       [16065.55214234],\n",
       "       [12664.66300187],\n",
       "       [ -145.15513305],\n",
       "       [ 9702.01142506],\n",
       "       [11319.84941984],\n",
       "       [29928.05455613],\n",
       "       [-1426.06735515],\n",
       "       [ 1952.78971346]])"
      ]
     },
     "execution_count": 35,
     "metadata": {},
     "output_type": "execute_result"
    }
   ],
   "source": [
    "y_pred=rid.predict(x_test)\n",
    "y_pred"
   ]
  },
  {
   "cell_type": "code",
   "execution_count": null,
   "id": "2d4174e6",
   "metadata": {},
   "outputs": [],
   "source": []
  }
 ],
 "metadata": {
  "kernelspec": {
   "display_name": "Python 3 (ipykernel)",
   "language": "python",
   "name": "python3"
  },
  "language_info": {
   "codemirror_mode": {
    "name": "ipython",
    "version": 3
   },
   "file_extension": ".py",
   "mimetype": "text/x-python",
   "name": "python",
   "nbconvert_exporter": "python",
   "pygments_lexer": "ipython3",
   "version": "3.11.5"
  }
 },
 "nbformat": 4,
 "nbformat_minor": 5
}
