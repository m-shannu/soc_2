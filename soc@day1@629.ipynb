{
 "cells": [
  {
   "cell_type": "code",
   "execution_count": 1,
   "id": "41f593c4",
   "metadata": {},
   "outputs": [
    {
     "data": {
      "text/plain": [
       "array([1, 2, 3, 4])"
      ]
     },
     "execution_count": 1,
     "metadata": {},
     "output_type": "execute_result"
    }
   ],
   "source": [
    "import numpy as np\n",
    "n=[1,2,3,4]\n",
    "ar1=np.array(n)#creating array\n",
    "ar1"
   ]
  },
  {
   "cell_type": "code",
   "execution_count": 4,
   "id": "b15e1520",
   "metadata": {},
   "outputs": [
    {
     "data": {
      "text/plain": [
       "array({'sai': 1, 'shannu': 2}, dtype=object)"
      ]
     },
     "execution_count": 4,
     "metadata": {},
     "output_type": "execute_result"
    }
   ],
   "source": [
    "#conversion of array to list\n",
    "ar={'sai':1,'shannu':2}\n",
    "l=np.array(ar)\n",
    "l.tolist()\n",
    "l"
   ]
  },
  {
   "cell_type": "code",
   "execution_count": 5,
   "id": "ee0f3955",
   "metadata": {},
   "outputs": [
    {
     "data": {
      "text/plain": [
       "array([ 1,  2, 10, 20,  3,  4])"
      ]
     },
     "execution_count": 5,
     "metadata": {},
     "output_type": "execute_result"
    }
   ],
   "source": [
    "#inserting elements to list at particular position\n",
    "n=[1,2,3,4]\n",
    "m=np.insert(n,2,(10,20))\n",
    "m"
   ]
  },
  {
   "cell_type": "code",
   "execution_count": 11,
   "id": "a5e8ce80",
   "metadata": {},
   "outputs": [
    {
     "data": {
      "text/plain": [
       "array([1, 3, 4, 5])"
      ]
     },
     "execution_count": 11,
     "metadata": {},
     "output_type": "execute_result"
    }
   ],
   "source": [
    "#delete\n",
    "n=[1,2,3,4,5]\n",
    "new=np.delete(n,[1])\n",
    "new"
   ]
  },
  {
   "cell_type": "code",
   "execution_count": 13,
   "id": "e8be1d68",
   "metadata": {},
   "outputs": [
    {
     "data": {
      "text/plain": [
       "array([1, 3, 5])"
      ]
     },
     "execution_count": 13,
     "metadata": {},
     "output_type": "execute_result"
    }
   ],
   "source": [
    "#to delete multiple values\n",
    "nr=np.setdiff1d(n,[0,2,4])\n",
    "nr"
   ]
  },
  {
   "cell_type": "code",
   "execution_count": 15,
   "id": "d4b3b54a",
   "metadata": {},
   "outputs": [
    {
     "data": {
      "text/plain": [
       "array([1, 2, 5])"
      ]
     },
     "execution_count": 15,
     "metadata": {},
     "output_type": "execute_result"
    }
   ],
   "source": [
    "#to delete multiple values based on index\n",
    "a=np.delete(n,[2,3])\n",
    "a"
   ]
  },
  {
   "cell_type": "code",
   "execution_count": 16,
   "id": "2d77720f",
   "metadata": {},
   "outputs": [
    {
     "data": {
      "text/plain": [
       "array([ 1.        , -2.        ,  0.71428571])"
      ]
     },
     "execution_count": 16,
     "metadata": {},
     "output_type": "execute_result"
    }
   ],
   "source": [
    "#to print elements less than 30\n",
    "l1=[1,33,-2,55/77,66,77,88,99]\n",
    "a=np.array(l1)\n",
    "a[a<30]\n"
   ]
  },
  {
   "cell_type": "code",
   "execution_count": 18,
   "id": "18a5cde5",
   "metadata": {},
   "outputs": [
    {
     "data": {
      "text/plain": [
       "[20, 2, 3, 4, 5]"
      ]
     },
     "execution_count": 18,
     "metadata": {},
     "output_type": "execute_result"
    }
   ],
   "source": [
    "#to replace the value\n",
    "n[n==2]=20\n",
    "n"
   ]
  },
  {
   "cell_type": "code",
   "execution_count": 20,
   "id": "4ffeaa6e",
   "metadata": {},
   "outputs": [
    {
     "name": "stdout",
     "output_type": "stream",
     "text": [
      "[0. 0. 0. 0. 0. 0. 0.]\n",
      "[1. 1. 1. 1. 1. 1. 1.]\n"
     ]
    }
   ],
   "source": [
    "#to create array full of zeros and ones\n",
    "print(np.zeros(7))#zeros\n",
    "print(np.ones(7))#ones"
   ]
  },
  {
   "cell_type": "code",
   "execution_count": 21,
   "id": "6682cefa",
   "metadata": {},
   "outputs": [
    {
     "data": {
      "text/plain": [
       "array([[1., 1., 1., 1., 1.],\n",
       "       [1., 1., 1., 1., 1.]])"
      ]
     },
     "execution_count": 21,
     "metadata": {},
     "output_type": "execute_result"
    }
   ],
   "source": [
    "#to create two dimensional array\n",
    "np.ones([2,5])"
   ]
  },
  {
   "cell_type": "code",
   "execution_count": 22,
   "id": "dadbd668",
   "metadata": {},
   "outputs": [
    {
     "data": {
      "text/plain": [
       "array([[1.+0.j, 1.+0.j, 1.+0.j, 1.+0.j, 1.+0.j],\n",
       "       [1.+0.j, 1.+0.j, 1.+0.j, 1.+0.j, 1.+0.j]])"
      ]
     },
     "execution_count": 22,
     "metadata": {},
     "output_type": "execute_result"
    }
   ],
   "source": [
    "#complex\n",
    "np.ones([2,5],dtype='complex')"
   ]
  },
  {
   "cell_type": "code",
   "execution_count": 23,
   "id": "b8302a88",
   "metadata": {},
   "outputs": [
    {
     "data": {
      "text/plain": [
       "array([[1., 1., 1.],\n",
       "       [1., 1., 1.],\n",
       "       [1., 1., 1.],\n",
       "       [1., 1., 1.],\n",
       "       [1., 1., 1.],\n",
       "       [1., 1., 1.],\n",
       "       [1., 1., 1.]])"
      ]
     },
     "execution_count": 23,
     "metadata": {},
     "output_type": "execute_result"
    }
   ],
   "source": [
    "np.ones([7,3],dtype='float')"
   ]
  },
  {
   "cell_type": "code",
   "execution_count": 24,
   "id": "5d234661",
   "metadata": {},
   "outputs": [
    {
     "name": "stdout",
     "output_type": "stream",
     "text": [
      "shannu\n"
     ]
    }
   ],
   "source": [
    "#class\n",
    "class c1:\n",
    "    name=\"shannu\"\n",
    "    age=19\n",
    "o=c1()\n",
    "print(o.name)"
   ]
  },
  {
   "cell_type": "code",
   "execution_count": null,
   "id": "f220f05d",
   "metadata": {},
   "outputs": [],
   "source": []
  }
 ],
 "metadata": {
  "kernelspec": {
   "display_name": "Python 3 (ipykernel)",
   "language": "python",
   "name": "python3"
  },
  "language_info": {
   "codemirror_mode": {
    "name": "ipython",
    "version": 3
   },
   "file_extension": ".py",
   "mimetype": "text/x-python",
   "name": "python",
   "nbconvert_exporter": "python",
   "pygments_lexer": "ipython3",
   "version": "3.11.5"
  }
 },
 "nbformat": 4,
 "nbformat_minor": 5
}
