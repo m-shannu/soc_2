{
 "cells": [
  {
   "cell_type": "code",
   "execution_count": 22,
   "id": "84118ce4",
   "metadata": {},
   "outputs": [],
   "source": [
    "# Web scraping using selenium"
   ]
  },
  {
   "cell_type": "code",
   "execution_count": 41,
   "id": "e3ba9c5d",
   "metadata": {},
   "outputs": [
    {
     "name": "stdout",
     "output_type": "stream",
     "text": [
      "Books to Scrape\n"
     ]
    }
   ],
   "source": [
    "from selenium import webdriver \n",
    "from selenium.webdriver.chrome.service import Service\n",
    "from selenium.webdriver.common.by import By\n",
    "s = Service(r\"C:\\Users\\SHANMUKH\\Desktop\\chrome1\\chromedriver-win64\\chromedriver.exe\")\n",
    "webdriver=webdriver.Chrome(service=s)\n",
    "webdriver.get(\"https://books.toscrape.com/\")\n",
    "\n",
    "\n",
    "a=webdriver.find_element(By.TAG_NAME,'a')\n",
    "print(a.text)"
   ]
  },
  {
   "cell_type": "code",
   "execution_count": 42,
   "id": "415134ed",
   "metadata": {},
   "outputs": [],
   "source": [
    "#from selenium import webdriver as webD\n",
    "#from selenium.webdriver.chrome.service import Service\n",
    "#from selenium.webdriver.common.by import By\n",
    "#s = Service(r\"C:\\Users\\HP\\Desktop\\chrome\\chromedriver-win64\\chromedriver.exe\")\n",
    "#webD=webdriver.Chrome(service=s)\n",
    "#webD.get(r\"https://books.toscrape.com/\")\n",
    "\n",
    "#a=webD.find_element(By.TAG_NAME, 'a')\n",
    "\n",
    "#print(a.text)\n",
    "\n",
    "# title=webD.find_element_by_class_name(\"col-sm-8 h1\")\n",
    "# print(title)"
   ]
  },
  {
   "cell_type": "code",
   "execution_count": 43,
   "id": "2a41992e",
   "metadata": {},
   "outputs": [],
   "source": [
    "# To retrieve the elements from webpage\n",
    "# To find element by attribute\n",
    "\n",
    "#element=webD.find_element_by_name(\"element name\")\n",
    " \n",
    "# To find element by lonk\n",
    "\n",
    "#element=webD.find_element_by_link(\"link\")\n",
    "\n",
    "# To find element by tag name\n",
    "\n",
    "#element=webD.find_element_by_tag_name(\"link\")\n",
    "\n",
    "# To find element by xpath\n",
    "\n",
    "#element=webD.find_element_by_xpath(\"xpath\")\n",
    "\n",
    "# To find element by class name\n",
    "\n",
    "#element=webD.find_element_by_class_name('classname')"
   ]
  },
  {
   "cell_type": "code",
   "execution_count": 44,
   "id": "85c522dd",
   "metadata": {},
   "outputs": [
    {
     "ename": "AttributeError",
     "evalue": "module 'selenium.webdriver' has no attribute 'find_element'",
     "output_type": "error",
     "traceback": [
      "\u001b[1;31m---------------------------------------------------------------------------\u001b[0m",
      "\u001b[1;31mAttributeError\u001b[0m                            Traceback (most recent call last)",
      "Cell \u001b[1;32mIn[44], line 4\u001b[0m\n\u001b[0;32m      1\u001b[0m \u001b[38;5;66;03m# To scrap this title\u001b[39;00m\n\u001b[0;32m      2\u001b[0m \u001b[38;5;66;03m#title=webD.find_element_by_class_name(\"col-sm-8 h1\")\u001b[39;00m\n\u001b[0;32m      3\u001b[0m \u001b[38;5;66;03m# To scrap the title\u001b[39;00m\n\u001b[1;32m----> 4\u001b[0m a\u001b[38;5;241m=\u001b[39mwebD\u001b[38;5;241m.\u001b[39mfind_element(By\u001b[38;5;241m.\u001b[39mTAG_NAME,\u001b[38;5;124m'\u001b[39m\u001b[38;5;124ma\u001b[39m\u001b[38;5;124m'\u001b[39m)\n\u001b[0;32m      5\u001b[0m \u001b[38;5;28mprint\u001b[39m(a\u001b[38;5;241m.\u001b[39mtext)\n",
      "\u001b[1;31mAttributeError\u001b[0m: module 'selenium.webdriver' has no attribute 'find_element'"
     ]
    }
   ],
   "source": [
    "# To scrap this title\n",
    "#title=webD.find_element_by_class_name(\"col-sm-8 h1\")\n",
    "# To scrap the title\n",
    "a=webD.find_element(By.TAG_NAME,'a')\n",
    "print(a.text)"
   ]
  },
  {
   "cell_type": "code",
   "execution_count": null,
   "id": "eec02252",
   "metadata": {},
   "outputs": [],
   "source": []
  }
 ],
 "metadata": {
  "kernelspec": {
   "display_name": "Python 3 (ipykernel)",
   "language": "python",
   "name": "python3"
  },
  "language_info": {
   "codemirror_mode": {
    "name": "ipython",
    "version": 3
   },
   "file_extension": ".py",
   "mimetype": "text/x-python",
   "name": "python",
   "nbconvert_exporter": "python",
   "pygments_lexer": "ipython3",
   "version": "3.11.5"
  }
 },
 "nbformat": 4,
 "nbformat_minor": 5
}
